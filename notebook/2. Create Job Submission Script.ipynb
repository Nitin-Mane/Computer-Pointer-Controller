{
 "cells": [
  {
   "cell_type": "markdown",
   "metadata": {},
   "source": [
    "# Step 2: Create Job Submission Script\n",
    "The next step is to create our job submission script. In the cell below, you will need to complete the job submission script and run the cell to generate the file using the magic %%writefile command. Your main task is to complete the following items of the script:\n",
    "\n",
    "Create a variable MODEL 1 and assign it the value of the 1 argument passed to the job submission script.\n",
    "Create a variable MODEL 2 and assign it the value of the 2 argument passed to the job submission script.\n",
    "Create a variable MODEL 3 and assign it the value of the 3 argument passed to the job submission script.\n",
    "Create a variable MODEL 4 and assign it the value of the 4 argument passed to the job submission script.\n",
    "\n",
    "Create a variable DEVICE 1 and assign it the value of the 5 argument passed to the job submission script.\n",
    "Create a variable DEVICE 2 and assign it the value of the 6 argument passed to the job submission script.\n",
    "Create a variable DEVICE 2 and assign it the value of the 7 argument passed to the job submission script.\n",
    "Create a variable DEVICE 3 and assign it the value of the 8 argument passed to the job submission script.\n",
    "Create a variable VIDEO and assign it the value of the 9 argument passed to the job submission script.\n",
    "Create a variable OUTPUT and assign it the value of the 10 argument passed to the job submission script."
   ]
  },
  {
   "cell_type": "code",
   "execution_count": 3,
   "metadata": {},
   "outputs": [
    {
     "name": "stdout",
     "output_type": "stream",
     "text": [
      "Overwriting queue_job.sh\n"
     ]
    }
   ],
   "source": [
    "%%writefile queue_job.sh\n",
    "#!/bin/bash\n",
    "\n",
    "\n",
    "exec 1>/output/stdout.log 2>/output/stderr.log\n",
    "\n",
    "#\n",
    "INPUT=$1 \n",
    "FACE_DETECTION_MODEL=$2 # Set model as 1\n",
    "HEADPOSE_ESTIMATION_MODEL=$3 # Set model as 3\n",
    "LANDMARK_DETECTION_MODEL=$4 # Set model as 2 \n",
    "GAZE_ESTIMATION_MODEL=$5 # Set model as 3\n",
    "\n",
    "FB_DEVICE=$6 # Set device as 1\n",
    "HP_DEVICE=$7 # Set device as 3 \n",
    "LM_DEVICE=$8 # Set device as 2 \n",
    "GE_DEVICE=$9 # Set device as 4 \n",
    "\n",
    "OUTPUT=$10 # Set output as 5\n",
    "FB_OUT=$11\n",
    "HP_OUT=$12\n",
    "LM_OUT=$13\n",
    "GE_OUT=$14\n",
    "\n",
    "mkdir -p $10\n",
    "\n",
    "\n",
    "if echo \"$DEVICE\" | grep -q \"FPGA\"; then # if device passed in is FPGA, load bitstream to program FPGA\n",
    "    #Environment variables and compilation for edge compute nodes with FPGAs\n",
    "    export AOCL_BOARD_PACKAGE_ROOT=/opt/intel/openvino/bitstreams/a10_vision_design_sg2_bitstreams/BSP/a10_1150_sg2\n",
    "\n",
    "    source /opt/altera/aocl-pro-rte/aclrte-linux64/init_opencl.sh\n",
    "    aocl program acl0 /opt/intel/openvino/bitstreams/a10_vision_design_sg2_bitstreams/2020-2_PL2_FP16_MobileNet_Clamp.aocx\n",
    "\n",
    "    export CL_CONTEXT_COMPILER_MODE_INTELFPGA=3\n",
    "fi\n",
    "\n",
    "\n",
    "python3 main.py -i ${INPUT} \\\n",
    "                -m_fd ${FACE_DETECTION_MODEL} \\\n",
    "                -d_fd ${FB_DEVICE} \\\n",
    "                -m_hp ${HEADPOSE_ESTIMATION_MODEL} \\\n",
    "                -d_hp ${HP_DEVICE} \\\n",
    "                -m_lm ${LANDMARK_DETECTION_MODEL} \\\n",
    "                -d_lm ${LM_DEVICE} \\\n",
    "                -m_gm ${GAZE_ESTIMATION_MODEL} \\\n",
    "                -d_gm ${GE_DEVICE} \\\n",
    "                -o ${OUTPUT} \\\n",
    "                -o_fd ${FB_OUT} \\\n",
    "                -o_hp ${HP_OUT} \\\n",
    "                -o_lm ${LM_OUT} \\\n",
    "                -o_gm ${GE_OUT}\n",
    "                \n",
    "cd /output\n",
    "\n",
    "\n",
    "tar zcvf output.tgz *"
   ]
  },
  {
   "cell_type": "markdown",
   "metadata": {},
   "source": [
    "# Next Step\n",
    "Now  the above cell and created your job submission script, it will work through each scenarios notebook in the next steps workspaces. In each of coming notebooks, it essential to submit jobs to Intel's DevCloud to load and run inference on each type of hardware and then review the results.\n",
    "\n",
    "Note: As a reminder, if you need to make any changes to the job submission script, you can come back to this workspace to edit and run the above cell to overwrite the file with your changes."
   ]
  }
 ],
 "metadata": {
  "kernelspec": {
   "display_name": "Python 3 (Ubuntu)",
   "language": "python",
   "name": "c003-python_3"
  },
  "language_info": {
   "codemirror_mode": {
    "name": "ipython",
    "version": 3
   },
   "file_extension": ".py",
   "mimetype": "text/x-python",
   "name": "python",
   "nbconvert_exporter": "python",
   "pygments_lexer": "ipython3",
   "version": "3.6.9"
  },
  "toc": {
   "base_numbering": 1,
   "nav_menu": {},
   "number_sections": true,
   "sideBar": true,
   "skip_h1_title": false,
   "title_cell": "Table of Contents",
   "title_sidebar": "Contents",
   "toc_cell": false,
   "toc_position": {},
   "toc_section_display": true,
   "toc_window_display": false
  }
 },
 "nbformat": 4,
 "nbformat_minor": 2
}
